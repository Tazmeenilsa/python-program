{
 "cells": [
  {
   "cell_type": "code",
   "execution_count": 23,
   "id": "c281072f",
   "metadata": {},
   "outputs": [
    {
     "name": "stdout",
     "output_type": "stream",
     "text": [
      "Twinkle,twinkle little star,\n",
      "   How I wonder what you are!\n",
      "       Up above the worlsd so high,\n",
      "       Like a diamond in the sky.\n",
      "Twinkle,twinkle little star,\n",
      "   How i wonder what you are\n"
     ]
    }
   ],
   "source": [
    "#Q.no 1 :\n",
    " #Write a Python program to print the following string in a specific format (see the output). \n",
    "\"\"\"Twinkle, twinkle, little star, \n",
    " \n",
    "How I wonder what you are! \n",
    " \n",
    "Up above the world so high, \n",
    "Like a diamond in the sky. \n",
    " \n",
    "Twinkle, twinkle, little star, \n",
    " \n",
    "How I wonder what you are\"\"\" \n",
    "\n",
    " # program :\n",
    "    \n",
    "print(\"Twinkle,twinkle little star,\");\n",
    "print(\"   How I wonder what you are!\");\n",
    "print(\"       Up above the worlsd so high,\");\n",
    "print(\"       Like a diamond in the sky.\");\n",
    "print(\"Twinkle,twinkle little star,\");\n",
    "print(\"   How i wonder what you are\");"
   ]
  },
  {
   "cell_type": "code",
   "execution_count": 24,
   "id": "654ceb4f",
   "metadata": {},
   "outputs": [
    {
     "name": "stdout",
     "output_type": "stream",
     "text": [
      "3.8.8 (default, Apr 13 2021, 15:08:03) [MSC v.1916 64 bit (AMD64)]\n"
     ]
    }
   ],
   "source": [
    "#Q.no 2 :\n",
    "#Write a Python program to get the Python version you are using \n",
    "\n",
    "import sys\n",
    "\n",
    "print(sys.version)"
   ]
  },
  {
   "cell_type": "code",
   "execution_count": 25,
   "id": "45212bcb",
   "metadata": {},
   "outputs": [
    {
     "name": "stdout",
     "output_type": "stream",
     "text": [
      "2021-10-24 16:14:59.247640\n"
     ]
    }
   ],
   "source": [
    "#Q.no 3 :\n",
    "#Write a Python program to display the current date and time. \n",
    "\n",
    "import datetime\n",
    "\n",
    "todays_date  = datetime.datetime.now()\n",
    "print(todays_date)"
   ]
  },
  {
   "cell_type": "code",
   "execution_count": 27,
   "id": "f2b22e1a",
   "metadata": {},
   "outputs": [
    {
     "name": "stdout",
     "output_type": "stream",
     "text": [
      "Enter radius of circle : 45\n",
      "Area of the circle is: 6361.725123519331\n"
     ]
    }
   ],
   "source": [
    "#Q.no 4 :\n",
    "#Write a Python program which accepts the radius of a circle from the user and compute the area.\n",
    "\n",
    "from math import pi\n",
    "\n",
    "r = float(input (\"Enter radius of circle : \"))\n",
    "print (\"Area of the circle is: \" + str(pi * r**2))"
   ]
  },
  {
   "cell_type": "code",
   "execution_count": 33,
   "id": "2e496704",
   "metadata": {},
   "outputs": [
    {
     "name": "stdout",
     "output_type": "stream",
     "text": [
      "enter the first Name:  Tazmeen\n",
      "enter the last Name:  Ilsa\n",
      "['Ilsa', 'Tazmeen']\n"
     ]
    }
   ],
   "source": [
    "#Q.no 5 :\n",
    "#Write a Python program which accepts the user's first and last name and print them in reverse order with a space between them.\n",
    "a= (input(\"enter the first Name:  \"))\n",
    "b= (input(\"enter the last Name:  \"))\n",
    "\n",
    "name=[a,b];\n",
    "name.reverse()\n",
    "print (name)"
   ]
  },
  {
   "cell_type": "code",
   "execution_count": 29,
   "id": "6702601a",
   "metadata": {},
   "outputs": [
    {
     "name": "stdout",
     "output_type": "stream",
     "text": [
      "enter a 1st no: 67\n",
      "enter a 2nd no: 56\n",
      "123\n"
     ]
    }
   ],
   "source": [
    "#Q.no 6 :\n",
    " #Write a python program which takes two inputs from user and print them addition \n",
    "\n",
    "a= int(input(\"enter a 1st no: \"))\n",
    "\n",
    "b= int(input(\"enter a 2nd no: \"))\n",
    "\n",
    "print (a+b)"
   ]
  },
  {
   "cell_type": "code",
   "execution_count": 30,
   "id": "9bdca7d9",
   "metadata": {},
   "outputs": [
    {
     "name": "stdout",
     "output_type": "stream",
     "text": [
      "Enter marks of eco65\n",
      "Enter marks of os89\n",
      "Enter marks of dcn45\n",
      "Enter marks of hadith98\n",
      "Enter marks of arbi12\n",
      "Grade: D\n"
     ]
    }
   ],
   "source": [
    "#Q.no 7 :\n",
    "#Write a program which takes 5 inputs from user for different subject’s marks, total it and generate mark sheet using grades ?\n",
    "\n",
    "eco=int(input(\"Enter marks of eco\"));\n",
    "os=int(input(\"Enter marks of os\"));\n",
    "dcn=int(input(\"Enter marks of dcn\"));\n",
    "hadith=int(input(\"Enter marks of hadith\"));\n",
    "arbi=int(input(\"Enter marks of arbi\"));\n",
    "total_marks=eco+os+dcn+hadith+arbi;\n",
    "per=(total_marks/500)*100;\n",
    "if(per>=90 and per<=100):\n",
    "   print(\"Grade: A\");\n",
    "elif(per>=80 and per<=90):\n",
    "   print(\"Grade: B\");\n",
    "elif(per>=70 and per<=80):\n",
    "   print(\"Grade: C\");\n",
    "elif(per>=60 and per<=70):\n",
    "   print(\"Grade: D\");\n",
    "else:\n",
    "   print(\"Grade: F\");"
   ]
  },
  {
   "cell_type": "code",
   "execution_count": 31,
   "id": "3296880e",
   "metadata": {},
   "outputs": [
    {
     "name": "stdout",
     "output_type": "stream",
     "text": [
      "Enter a number: 45\n",
      "This is an odd number.\n"
     ]
    }
   ],
   "source": [
    "#Q.no 8 :\n",
    "#Write a program which take input from user and identify that the given number is even or odd? \n",
    "num = int(input(\"Enter a number: \"))\n",
    "mod = num % 2\n",
    "if mod > 0:\n",
    "    print(\"This is an odd number.\")\n",
    "else:\n",
    "    print(\"This is an even number.\")"
   ]
  },
  {
   "cell_type": "code",
   "execution_count": 32,
   "id": "6b7f409c",
   "metadata": {},
   "outputs": [
    {
     "name": "stdout",
     "output_type": "stream",
     "text": [
      "6\n"
     ]
    }
   ],
   "source": [
    "#Q.no 9 :\n",
    "#Write a program which print the length of the list\n",
    "\n",
    "city=[\"Karachi\",\"Lahore\",\"Islamabad\",\"Faisalabad\",\"punjab\",\"Multan\"];\n",
    "print(len(city))\n"
   ]
  },
  {
   "cell_type": "code",
   "execution_count": 9,
   "id": "9554b3cc",
   "metadata": {},
   "outputs": [
    {
     "name": "stdout",
     "output_type": "stream",
     "text": [
      "251\n"
     ]
    }
   ],
   "source": [
    "#Q.no 10 :\n",
    "#Write a Python program to sum all the numeric items in a list?\n",
    "\n",
    "num=[44,56,72,14,53,12];\n",
    "print(sum(num))"
   ]
  },
  {
   "cell_type": "code",
   "execution_count": 10,
   "id": "fa58137a",
   "metadata": {
    "scrolled": true
   },
   "outputs": [
    {
     "name": "stdout",
     "output_type": "stream",
     "text": [
      "98\n"
     ]
    }
   ],
   "source": [
    "#Q.no 11 :\n",
    "#Write a Python program to get the largest number from a numeric list.\n",
    "\n",
    "num=[76,54,76,23,68,34,98]\n",
    "print(max(num))"
   ]
  },
  {
   "cell_type": "code",
   "execution_count": 22,
   "id": "ebe27c6f",
   "metadata": {
    "scrolled": true
   },
   "outputs": [
    {
     "name": "stdout",
     "output_type": "stream",
     "text": [
      "1\n",
      "1\n",
      "2\n",
      "3\n",
      "[1, 1, 2, 3]\n"
     ]
    }
   ],
   "source": [
    "#Q.no 12 :\n",
    "#Take a list, say for example this one: \n",
    "# a = [1, 1, 2, 3, 5, 8, 13, 21, 34, 55, 89] \n",
    "# Write a program that prints out all the elements of the list that are less than 5.\n",
    "\n",
    "a=[1,1,2,3,5,8,13,21,34,55,89]\n",
    "    \n",
    "for i in a:\n",
    "\n",
    "    if i < 5:\n",
    "\n",
    "        print(i)\n",
    "        \n",
    "#in list form:\n",
    "\n",
    "x=[i for i in a if i <5] \n",
    "print(x) "
   ]
  }
 ],
 "metadata": {
  "kernelspec": {
   "display_name": "Python 3",
   "language": "python",
   "name": "python3"
  },
  "language_info": {
   "codemirror_mode": {
    "name": "ipython",
    "version": 3
   },
   "file_extension": ".py",
   "mimetype": "text/x-python",
   "name": "python",
   "nbconvert_exporter": "python",
   "pygments_lexer": "ipython3",
   "version": "3.8.8"
  }
 },
 "nbformat": 4,
 "nbformat_minor": 5
}
